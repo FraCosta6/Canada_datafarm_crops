{
 "cells": [
  {
   "cell_type": "markdown",
   "metadata": {},
   "source": [
    "# Canada's DataFarm Crops — Initial Data Overview"
   ]
  },
  {
   "cell_type": "markdown",
   "metadata": {},
   "source": [
    "[ENG]\n",
    "This notebook represents the first phase of Exploratory Data Analysis (EDA) on the dataset of Canadian agricultural crops.\n",
    "It includes preliminary operations such as data import, structural inspection, type identification, checking for missing values, and descriptive statistics.\n",
    "The goal is to become familiar with the structure of the dataset before proceeding with cleaning and visualization.\n",
    "\n",
    "[IT]\n",
    "Questo notebook rappresenta la prima fase di analisi esplorativa (EDA) del dataset sulle coltivazioni agricole canadesi.  \n",
    "Contiene le operazioni preliminari di importazione, verifica struttura dei dati, identificazione dei tipi, eventuali valori nulli e statistiche descrittive.  \n",
    "Lo scopo è familiarizzare con la struttura del dataset prima della pulizia e visualizzazione."
   ]
  },
  {
   "cell_type": "code",
   "execution_count": 2,
   "metadata": {},
   "outputs": [],
   "source": [
    "# Main libraries for data analysis\n",
    "import pandas as pd          # Data manipulation and analysis\n",
    "import numpy as np           # Numerical computations and array handling\n",
    "import matplotlib.pyplot as plt  # Basic plotting\n",
    "import seaborn as sns        # Statistical data visualization\n",
    "\n",
    "# Display settings for better readability\n",
    "pd.set_option('display.max_columns', None)   # Show all columns when displaying a DataFrame\n",
    "pd.set_option('display.precision', 2)        # Display float numbers with 2 decimal places\n",
    "\n",
    "# Set Seaborn theme for nicer plots\n",
    "sns.set(style='whitegrid')   # Use white background with gridlines for clarity\n",
    "\n",
    "# Enable inline plotting in Jupyter Notebooks (if applicable)\n",
    "%matplotlib inline"
   ]
  },
  {
   "cell_type": "code",
   "execution_count": 4,
   "metadata": {},
   "outputs": [
    {
     "name": "stdout",
     "output_type": "stream",
     "text": [
      "Shape of the dataset:\n",
      "Rows: 10273\n",
      "Columns: 9\n"
     ]
    }
   ],
   "source": [
    "# Check the number of rows and columns in the dataset\n",
    "print(\"Shape of the dataset:\")\n",
    "print(f\"Rows: {df.shape[0]}\")\n",
    "print(f\"Columns: {df.shape[1]}\")"
   ]
  },
  {
   "cell_type": "code",
   "execution_count": 3,
   "metadata": {},
   "outputs": [
    {
     "data": {
      "text/html": [
       "<div>\n",
       "<style scoped>\n",
       "    .dataframe tbody tr th:only-of-type {\n",
       "        vertical-align: middle;\n",
       "    }\n",
       "\n",
       "    .dataframe tbody tr th {\n",
       "        vertical-align: top;\n",
       "    }\n",
       "\n",
       "    .dataframe thead th {\n",
       "        text-align: right;\n",
       "    }\n",
       "</style>\n",
       "<table border=\"1\" class=\"dataframe\">\n",
       "  <thead>\n",
       "    <tr style=\"text-align: right;\">\n",
       "      <th></th>\n",
       "      <th>REF_DATE</th>\n",
       "      <th>GEO</th>\n",
       "      <th>Type of crop</th>\n",
       "      <th>Average farm price (dollars per tonne)</th>\n",
       "      <th>Average yield (kilograms per hectare)</th>\n",
       "      <th>Production (metric tonnes)</th>\n",
       "      <th>Seeded area (acres)</th>\n",
       "      <th>Seeded area (hectares)</th>\n",
       "      <th>Total farm value (dollars)</th>\n",
       "    </tr>\n",
       "  </thead>\n",
       "  <tbody>\n",
       "    <tr>\n",
       "      <th>0</th>\n",
       "      <td>1908</td>\n",
       "      <td>AB</td>\n",
       "      <td>Barley</td>\n",
       "      <td>15.00</td>\n",
       "      <td>1585.0</td>\n",
       "      <td>84000.0</td>\n",
       "      <td>129800.0</td>\n",
       "      <td>53000.0</td>\n",
       "      <td>1296</td>\n",
       "    </tr>\n",
       "    <tr>\n",
       "      <th>1</th>\n",
       "      <td>1908</td>\n",
       "      <td>AB</td>\n",
       "      <td>Flaxseed</td>\n",
       "      <td>29.00</td>\n",
       "      <td>950.0</td>\n",
       "      <td>1900.0</td>\n",
       "      <td>5900.0</td>\n",
       "      <td>2000.0</td>\n",
       "      <td>56</td>\n",
       "    </tr>\n",
       "    <tr>\n",
       "      <th>2</th>\n",
       "      <td>1908</td>\n",
       "      <td>AB</td>\n",
       "      <td>Oats</td>\n",
       "      <td>18.00</td>\n",
       "      <td>1675.0</td>\n",
       "      <td>352000.0</td>\n",
       "      <td>519400.0</td>\n",
       "      <td>210000.0</td>\n",
       "      <td>6316</td>\n",
       "    </tr>\n",
       "    <tr>\n",
       "      <th>3</th>\n",
       "      <td>1908</td>\n",
       "      <td>AB</td>\n",
       "      <td>Rye, all</td>\n",
       "      <td>23.00</td>\n",
       "      <td>1665.0</td>\n",
       "      <td>5000.0</td>\n",
       "      <td>6500.0</td>\n",
       "      <td>3000.0</td>\n",
       "      <td>117</td>\n",
       "    </tr>\n",
       "    <tr>\n",
       "      <th>4</th>\n",
       "      <td>1908</td>\n",
       "      <td>AB</td>\n",
       "      <td>Sugar beets</td>\n",
       "      <td>0.55</td>\n",
       "      <td>18100.0</td>\n",
       "      <td>38100.0</td>\n",
       "      <td>5200.0</td>\n",
       "      <td>2100.0</td>\n",
       "      <td>208</td>\n",
       "    </tr>\n",
       "  </tbody>\n",
       "</table>\n",
       "</div>"
      ],
      "text/plain": [
       "   REF_DATE GEO Type of crop  Average farm price (dollars per tonne)  \\\n",
       "0      1908  AB       Barley                                   15.00   \n",
       "1      1908  AB     Flaxseed                                   29.00   \n",
       "2      1908  AB         Oats                                   18.00   \n",
       "3      1908  AB     Rye, all                                   23.00   \n",
       "4      1908  AB  Sugar beets                                    0.55   \n",
       "\n",
       "   Average yield (kilograms per hectare)  Production (metric tonnes)  \\\n",
       "0                                 1585.0                     84000.0   \n",
       "1                                  950.0                      1900.0   \n",
       "2                                 1675.0                    352000.0   \n",
       "3                                 1665.0                      5000.0   \n",
       "4                                18100.0                     38100.0   \n",
       "\n",
       "   Seeded area (acres)  Seeded area (hectares)  Total farm value (dollars)  \n",
       "0             129800.0                 53000.0                        1296  \n",
       "1               5900.0                  2000.0                          56  \n",
       "2             519400.0                210000.0                        6316  \n",
       "3               6500.0                  3000.0                         117  \n",
       "4               5200.0                  2100.0                         208  "
      ]
     },
     "execution_count": 3,
     "metadata": {},
     "output_type": "execute_result"
    }
   ],
   "source": [
    "# Load the dataset from the raw data folder\n",
    "df = pd.read_csv(\"../data_raw/farm_production_dataset.csv\")\n",
    "\n",
    "# Preview the first 5 rows to understand the structure\n",
    "df.head()"
   ]
  },
  {
   "cell_type": "code",
   "execution_count": 5,
   "metadata": {},
   "outputs": [
    {
     "data": {
      "text/plain": [
       "REF_DATE                                    int64\n",
       "GEO                                        object\n",
       "Type of crop                               object\n",
       "Average farm price (dollars per tonne)    float64\n",
       "Average yield (kilograms per hectare)     float64\n",
       "Production (metric tonnes)                float64\n",
       "Seeded area (acres)                       float64\n",
       "Seeded area (hectares)                    float64\n",
       "Total farm value (dollars)                  int64\n",
       "dtype: object"
      ]
     },
     "execution_count": 5,
     "metadata": {},
     "output_type": "execute_result"
    }
   ],
   "source": [
    "# Check the data types of each column\n",
    "df.dtypes"
   ]
  },
  {
   "cell_type": "code",
   "execution_count": 6,
   "metadata": {},
   "outputs": [
    {
     "data": {
      "text/html": [
       "<div>\n",
       "<style scoped>\n",
       "    .dataframe tbody tr th:only-of-type {\n",
       "        vertical-align: middle;\n",
       "    }\n",
       "\n",
       "    .dataframe tbody tr th {\n",
       "        vertical-align: top;\n",
       "    }\n",
       "\n",
       "    .dataframe thead th {\n",
       "        text-align: right;\n",
       "    }\n",
       "</style>\n",
       "<table border=\"1\" class=\"dataframe\">\n",
       "  <thead>\n",
       "    <tr style=\"text-align: right;\">\n",
       "      <th></th>\n",
       "      <th>Missing Values</th>\n",
       "      <th>Percentage (%)</th>\n",
       "    </tr>\n",
       "  </thead>\n",
       "  <tbody>\n",
       "    <tr>\n",
       "      <th>Type of crop</th>\n",
       "      <td>1</td>\n",
       "      <td>0.01</td>\n",
       "    </tr>\n",
       "    <tr>\n",
       "      <th>Average farm price (dollars per tonne)</th>\n",
       "      <td>30</td>\n",
       "      <td>0.29</td>\n",
       "    </tr>\n",
       "    <tr>\n",
       "      <th>Average yield (kilograms per hectare)</th>\n",
       "      <td>27</td>\n",
       "      <td>0.26</td>\n",
       "    </tr>\n",
       "    <tr>\n",
       "      <th>Production (metric tonnes)</th>\n",
       "      <td>28</td>\n",
       "      <td>0.27</td>\n",
       "    </tr>\n",
       "    <tr>\n",
       "      <th>Seeded area (acres)</th>\n",
       "      <td>400</td>\n",
       "      <td>3.89</td>\n",
       "    </tr>\n",
       "    <tr>\n",
       "      <th>Seeded area (hectares)</th>\n",
       "      <td>426</td>\n",
       "      <td>4.15</td>\n",
       "    </tr>\n",
       "  </tbody>\n",
       "</table>\n",
       "</div>"
      ],
      "text/plain": [
       "                                        Missing Values  Percentage (%)\n",
       "Type of crop                                         1            0.01\n",
       "Average farm price (dollars per tonne)              30            0.29\n",
       "Average yield (kilograms per hectare)               27            0.26\n",
       "Production (metric tonnes)                          28            0.27\n",
       "Seeded area (acres)                                400            3.89\n",
       "Seeded area (hectares)                             426            4.15"
      ]
     },
     "execution_count": 6,
     "metadata": {},
     "output_type": "execute_result"
    }
   ],
   "source": [
    "# Check for missing values (NaN) in each column\n",
    "missing_values = df.isnull().sum()\n",
    "\n",
    "# Calculate the percentage of missing values\n",
    "missing_percentage = (missing_values / len(df)) * 100\n",
    "\n",
    "# Combine the count and percentage in a single DataFrame\n",
    "missing_data = pd.DataFrame({\n",
    "    'Missing Values': missing_values,\n",
    "    'Percentage (%)': missing_percentage.round(2)\n",
    "})\n",
    "\n",
    "# Display only columns with missing values\n",
    "missing_data[missing_data['Missing Values'] > 0]"
   ]
  }
 ],
 "metadata": {
  "kernelspec": {
   "display_name": "venv",
   "language": "python",
   "name": "python3"
  },
  "language_info": {
   "codemirror_mode": {
    "name": "ipython",
    "version": 3
   },
   "file_extension": ".py",
   "mimetype": "text/x-python",
   "name": "python",
   "nbconvert_exporter": "python",
   "pygments_lexer": "ipython3",
   "version": "3.13.2"
  }
 },
 "nbformat": 4,
 "nbformat_minor": 2
}
