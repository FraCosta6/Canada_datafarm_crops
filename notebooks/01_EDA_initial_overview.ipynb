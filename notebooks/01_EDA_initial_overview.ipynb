{
 "cells": [
  {
   "cell_type": "markdown",
   "metadata": {},
   "source": [
    "# Canada's DataFarm Crops — Initial Data Overview"
   ]
  },
  {
   "cell_type": "markdown",
   "metadata": {},
   "source": [
    "[ENG]\n",
    "This notebook represents the first phase of Exploratory Data Analysis (EDA) on the dataset of Canadian agricultural crops.\n",
    "It includes preliminary operations such as data import, structural inspection, type identification, checking for missing values, and descriptive statistics.\n",
    "The goal is to become familiar with the structure of the dataset before proceeding with cleaning and visualization.\n",
    "\n",
    "[IT]\n",
    "Questo notebook rappresenta la prima fase di analisi esplorativa (EDA) del dataset sulle coltivazioni agricole canadesi.  \n",
    "Contiene le operazioni preliminari di importazione, verifica struttura dei dati, identificazione dei tipi, eventuali valori nulli e statistiche descrittive.  \n",
    "Lo scopo è familiarizzare con la struttura del dataset prima della pulizia e visualizzazione."
   ]
  },
  {
   "cell_type": "markdown",
   "metadata": {},
   "source": [
    "### 1. Data Exploration and Understanding"
   ]
  },
  {
   "cell_type": "code",
   "execution_count": 34,
   "metadata": {},
   "outputs": [],
   "source": [
    "# Main libraries for data analysis\n",
    "import pandas as pd          # Data manipulation and analysis\n",
    "import numpy as np           # Numerical computations and array handling\n",
    "import matplotlib.pyplot as plt  # Basic plotting\n",
    "import seaborn as sns        # Statistical data visualization\n",
    "\n",
    "# Display settings for better readability\n",
    "pd.set_option('display.max_columns', None)   # Show all columns when displaying a DataFrame\n",
    "pd.set_option('display.precision', 2)        # Display float numbers with 2 decimal places\n",
    "\n",
    "# Set Seaborn theme for nicer plots\n",
    "sns.set(style='whitegrid')   # Use white background with gridlines for clarity\n",
    "\n",
    "# Enable inline plotting in Jupyter Notebooks (if applicable)\n",
    "%matplotlib inline"
   ]
  },
  {
   "cell_type": "code",
   "execution_count": 35,
   "metadata": {},
   "outputs": [],
   "source": [
    "# Load the dataset from the raw data folder\n",
    "df = pd.read_csv(\"../data_raw/farm_production_dataset.csv\")"
   ]
  },
  {
   "cell_type": "code",
   "execution_count": 36,
   "metadata": {},
   "outputs": [
    {
     "name": "stdout",
     "output_type": "stream",
     "text": [
      "Shape of the dataset:\n",
      "Rows: 10273\n",
      "Columns: 9\n"
     ]
    }
   ],
   "source": [
    "# Check the number of rows and columns in the dataset\n",
    "print(\"Shape of the dataset:\")\n",
    "print(f\"Rows: {df.shape[0]}\")\n",
    "print(f\"Columns: {df.shape[1]}\")"
   ]
  },
  {
   "cell_type": "code",
   "execution_count": 37,
   "metadata": {},
   "outputs": [
    {
     "data": {
      "text/html": [
       "<div>\n",
       "<style scoped>\n",
       "    .dataframe tbody tr th:only-of-type {\n",
       "        vertical-align: middle;\n",
       "    }\n",
       "\n",
       "    .dataframe tbody tr th {\n",
       "        vertical-align: top;\n",
       "    }\n",
       "\n",
       "    .dataframe thead th {\n",
       "        text-align: right;\n",
       "    }\n",
       "</style>\n",
       "<table border=\"1\" class=\"dataframe\">\n",
       "  <thead>\n",
       "    <tr style=\"text-align: right;\">\n",
       "      <th></th>\n",
       "      <th>REF_DATE</th>\n",
       "      <th>GEO</th>\n",
       "      <th>Type of crop</th>\n",
       "      <th>Average farm price (dollars per tonne)</th>\n",
       "      <th>Average yield (kilograms per hectare)</th>\n",
       "      <th>Production (metric tonnes)</th>\n",
       "      <th>Seeded area (acres)</th>\n",
       "      <th>Seeded area (hectares)</th>\n",
       "      <th>Total farm value (dollars)</th>\n",
       "    </tr>\n",
       "  </thead>\n",
       "  <tbody>\n",
       "    <tr>\n",
       "      <th>0</th>\n",
       "      <td>1908</td>\n",
       "      <td>AB</td>\n",
       "      <td>Barley</td>\n",
       "      <td>15.00</td>\n",
       "      <td>1585.0</td>\n",
       "      <td>84000.0</td>\n",
       "      <td>129800.0</td>\n",
       "      <td>53000.0</td>\n",
       "      <td>1296</td>\n",
       "    </tr>\n",
       "    <tr>\n",
       "      <th>1</th>\n",
       "      <td>1908</td>\n",
       "      <td>AB</td>\n",
       "      <td>Flaxseed</td>\n",
       "      <td>29.00</td>\n",
       "      <td>950.0</td>\n",
       "      <td>1900.0</td>\n",
       "      <td>5900.0</td>\n",
       "      <td>2000.0</td>\n",
       "      <td>56</td>\n",
       "    </tr>\n",
       "    <tr>\n",
       "      <th>2</th>\n",
       "      <td>1908</td>\n",
       "      <td>AB</td>\n",
       "      <td>Oats</td>\n",
       "      <td>18.00</td>\n",
       "      <td>1675.0</td>\n",
       "      <td>352000.0</td>\n",
       "      <td>519400.0</td>\n",
       "      <td>210000.0</td>\n",
       "      <td>6316</td>\n",
       "    </tr>\n",
       "    <tr>\n",
       "      <th>3</th>\n",
       "      <td>1908</td>\n",
       "      <td>AB</td>\n",
       "      <td>Rye, all</td>\n",
       "      <td>23.00</td>\n",
       "      <td>1665.0</td>\n",
       "      <td>5000.0</td>\n",
       "      <td>6500.0</td>\n",
       "      <td>3000.0</td>\n",
       "      <td>117</td>\n",
       "    </tr>\n",
       "    <tr>\n",
       "      <th>4</th>\n",
       "      <td>1908</td>\n",
       "      <td>AB</td>\n",
       "      <td>Sugar beets</td>\n",
       "      <td>0.55</td>\n",
       "      <td>18100.0</td>\n",
       "      <td>38100.0</td>\n",
       "      <td>5200.0</td>\n",
       "      <td>2100.0</td>\n",
       "      <td>208</td>\n",
       "    </tr>\n",
       "  </tbody>\n",
       "</table>\n",
       "</div>"
      ],
      "text/plain": [
       "   REF_DATE GEO Type of crop  Average farm price (dollars per tonne)  \\\n",
       "0      1908  AB       Barley                                   15.00   \n",
       "1      1908  AB     Flaxseed                                   29.00   \n",
       "2      1908  AB         Oats                                   18.00   \n",
       "3      1908  AB     Rye, all                                   23.00   \n",
       "4      1908  AB  Sugar beets                                    0.55   \n",
       "\n",
       "   Average yield (kilograms per hectare)  Production (metric tonnes)  \\\n",
       "0                                 1585.0                     84000.0   \n",
       "1                                  950.0                      1900.0   \n",
       "2                                 1675.0                    352000.0   \n",
       "3                                 1665.0                      5000.0   \n",
       "4                                18100.0                     38100.0   \n",
       "\n",
       "   Seeded area (acres)  Seeded area (hectares)  Total farm value (dollars)  \n",
       "0             129800.0                 53000.0                        1296  \n",
       "1               5900.0                  2000.0                          56  \n",
       "2             519400.0                210000.0                        6316  \n",
       "3               6500.0                  3000.0                         117  \n",
       "4               5200.0                  2100.0                         208  "
      ]
     },
     "execution_count": 37,
     "metadata": {},
     "output_type": "execute_result"
    }
   ],
   "source": [
    "# Preview the first 5 rows to understand the structure\n",
    "df.head()"
   ]
  },
  {
   "cell_type": "code",
   "execution_count": 38,
   "metadata": {},
   "outputs": [
    {
     "data": {
      "text/plain": [
       "REF_DATE                                    int64\n",
       "GEO                                        object\n",
       "Type of crop                               object\n",
       "Average farm price (dollars per tonne)    float64\n",
       "Average yield (kilograms per hectare)     float64\n",
       "Production (metric tonnes)                float64\n",
       "Seeded area (acres)                       float64\n",
       "Seeded area (hectares)                    float64\n",
       "Total farm value (dollars)                  int64\n",
       "dtype: object"
      ]
     },
     "execution_count": 38,
     "metadata": {},
     "output_type": "execute_result"
    }
   ],
   "source": [
    "# Check the data types of each column\n",
    "df.dtypes"
   ]
  },
  {
   "cell_type": "code",
   "execution_count": 39,
   "metadata": {},
   "outputs": [
    {
     "data": {
      "text/html": [
       "<div>\n",
       "<style scoped>\n",
       "    .dataframe tbody tr th:only-of-type {\n",
       "        vertical-align: middle;\n",
       "    }\n",
       "\n",
       "    .dataframe tbody tr th {\n",
       "        vertical-align: top;\n",
       "    }\n",
       "\n",
       "    .dataframe thead th {\n",
       "        text-align: right;\n",
       "    }\n",
       "</style>\n",
       "<table border=\"1\" class=\"dataframe\">\n",
       "  <thead>\n",
       "    <tr style=\"text-align: right;\">\n",
       "      <th></th>\n",
       "      <th>Missing Values</th>\n",
       "      <th>Percentage (%)</th>\n",
       "    </tr>\n",
       "  </thead>\n",
       "  <tbody>\n",
       "    <tr>\n",
       "      <th>Type of crop</th>\n",
       "      <td>1</td>\n",
       "      <td>0.01</td>\n",
       "    </tr>\n",
       "    <tr>\n",
       "      <th>Average farm price (dollars per tonne)</th>\n",
       "      <td>30</td>\n",
       "      <td>0.29</td>\n",
       "    </tr>\n",
       "    <tr>\n",
       "      <th>Average yield (kilograms per hectare)</th>\n",
       "      <td>27</td>\n",
       "      <td>0.26</td>\n",
       "    </tr>\n",
       "    <tr>\n",
       "      <th>Production (metric tonnes)</th>\n",
       "      <td>28</td>\n",
       "      <td>0.27</td>\n",
       "    </tr>\n",
       "    <tr>\n",
       "      <th>Seeded area (acres)</th>\n",
       "      <td>400</td>\n",
       "      <td>3.89</td>\n",
       "    </tr>\n",
       "    <tr>\n",
       "      <th>Seeded area (hectares)</th>\n",
       "      <td>426</td>\n",
       "      <td>4.15</td>\n",
       "    </tr>\n",
       "  </tbody>\n",
       "</table>\n",
       "</div>"
      ],
      "text/plain": [
       "                                        Missing Values  Percentage (%)\n",
       "Type of crop                                         1            0.01\n",
       "Average farm price (dollars per tonne)              30            0.29\n",
       "Average yield (kilograms per hectare)               27            0.26\n",
       "Production (metric tonnes)                          28            0.27\n",
       "Seeded area (acres)                                400            3.89\n",
       "Seeded area (hectares)                             426            4.15"
      ]
     },
     "execution_count": 39,
     "metadata": {},
     "output_type": "execute_result"
    }
   ],
   "source": [
    "# Check for missing values (NaN) in each column\n",
    "missing_values = df.isnull().sum()\n",
    "\n",
    "# Calculate the percentage of missing values\n",
    "missing_percentage = (missing_values / len(df)) * 100\n",
    "\n",
    "# Combine the count and percentage in a single DataFrame\n",
    "missing_data = pd.DataFrame({\n",
    "    'Missing Values': missing_values,\n",
    "    'Percentage (%)': missing_percentage.round(2)\n",
    "})\n",
    "\n",
    "# Display only columns with missing values\n",
    "missing_data[missing_data['Missing Values'] > 0]"
   ]
  },
  {
   "cell_type": "markdown",
   "metadata": {},
   "source": [
    "### 2. Data Cleaning and Preparation"
   ]
  },
  {
   "cell_type": "markdown",
   "metadata": {},
   "source": [
    "### 1. Remove rows with missing crop types\n",
    "This step removes any rows where the 'Type of crop' field is missing. Since the percentage is only 0.01%, this operation has negligible impact.\n"
   ]
  },
  {
   "cell_type": "code",
   "execution_count": 19,
   "metadata": {},
   "outputs": [],
   "source": [
    "# Drop rows with missing 'Type of crop' (only 1 row missing, negligible impact)\n",
    "df = df.dropna(subset=[\"Type of crop\"])"
   ]
  },
  {
   "cell_type": "markdown",
   "metadata": {},
   "source": [
    "### Step 2 – Impute missing values in 'Average farm price'\n",
    "We fill missing values in the 'Average farm price' column using the mean price calculated for each specific crop type. This preserves logical consistency within the data.\n"
   ]
  },
  {
   "cell_type": "code",
   "execution_count": 20,
   "metadata": {},
   "outputs": [],
   "source": [
    "# Fill missing 'Average farm price' values using the mean per crop type\n",
    "df[\"Average farm price (dollars per tonne)\"] = (\n",
    "    df.groupby(\"Type of crop\")[\"Average farm price (dollars per tonne)\"]\n",
    "      .transform(lambda x: x.fillna(x.mean()))\n",
    ")"
   ]
  },
  {
   "cell_type": "markdown",
   "metadata": {},
   "source": [
    "### Step 3 – Impute missing values in 'Average yield'\n",
    "Missing values in the 'Average yield' column are replaced using the average yield value for each crop type. This ensures that estimates are context-aware."
   ]
  },
  {
   "cell_type": "code",
   "execution_count": 21,
   "metadata": {},
   "outputs": [],
   "source": [
    "# Fill missing 'Average yield' values using the mean per crop type\n",
    "df[\"Average yield (kilograms per hectare)\"] = (\n",
    "    df.groupby(\"Type of crop\")[\"Average yield (kilograms per hectare)\"]\n",
    "      .transform(lambda x: x.fillna(x.mean()))\n",
    ")"
   ]
  },
  {
   "cell_type": "markdown",
   "metadata": {},
   "source": [
    "### Step 4 – Compute 'Production' using yield and area\n",
    "When both 'Average yield' and 'Seeded area (hectares)' are available, we calculate missing 'Production' values using the formula:  \n",
    "**Production = Yield × Seeded area**\n"
   ]
  },
  {
   "cell_type": "code",
   "execution_count": 23,
   "metadata": {},
   "outputs": [],
   "source": [
    "# Compute 'Production' using: Production = Yield × Seeded area (hectares)\n",
    "mask = (\n",
    "    df[\"Production (metric tonnes)\"].isnull() &\n",
    "    df[\"Average yield (kilograms per hectare)\"].notnull() &\n",
    "    df[\"Seeded area (hectares)\"].notnull()\n",
    ")\n",
    "df.loc[mask, \"Production (metric tonnes)\"] = (\n",
    "    df.loc[mask, \"Average yield (kilograms per hectare)\"] * df.loc[mask, \"Seeded area (hectares)\"]\n",
    ")"
   ]
  },
  {
   "cell_type": "markdown",
   "metadata": {},
   "source": [
    "### Step 5 – Impute remaining missing 'Production' values\n",
    "For rows where 'Production' is still missing after the logical computation, we use the mean production value for each crop type as a fallback.\n"
   ]
  },
  {
   "cell_type": "code",
   "execution_count": 24,
   "metadata": {},
   "outputs": [],
   "source": [
    "# Fill remaining missing 'Production' values with the mean per crop type\n",
    "df[\"Production (metric tonnes)\"] = (\n",
    "    df.groupby(\"Type of crop\")[\"Production (metric tonnes)\"]\n",
    "      .transform(lambda x: x.fillna(x.mean()))\n",
    ")"
   ]
  },
  {
   "cell_type": "markdown",
   "metadata": {},
   "source": [
    "### Step 6 – Drop the 'Seeded area (acres)' column\n",
    "This column is redundant since we are using hectares as the standard unit. Dropping it avoids duplication and confusion in further calculations."
   ]
  },
  {
   "cell_type": "code",
   "execution_count": 25,
   "metadata": {},
   "outputs": [],
   "source": [
    "# Drop 'Seeded area (acres)' column as it's redundant (hectares used instead)\n",
    "df = df.drop(columns=[\"Seeded area (acres)\"])"
   ]
  },
  {
   "cell_type": "markdown",
   "metadata": {},
   "source": [
    "### Step 7 – Impute missing values in 'Seeded area (hectares)'\n",
    "We fill missing values in 'Seeded area (hectares)' using the average area for each combination of crop type and year. This improves precision, as seeding area often varies by year.\n"
   ]
  },
  {
   "cell_type": "code",
   "execution_count": 27,
   "metadata": {},
   "outputs": [],
   "source": [
    "# Fill missing 'Seeded area (hectares)' using the mean per crop and year\n",
    "df[\"Seeded area (hectares)\"] = (\n",
    "    df.groupby([\"Type of crop\", \"REF_DATE\"])[\"Seeded area (hectares)\"]\n",
    "      .transform(lambda x: x.fillna(x.mean()))\n",
    ")\n"
   ]
  },
  {
   "cell_type": "markdown",
   "metadata": {},
   "source": [
    "### Step 8 – Drop remaining rows with missing 'Seeded area (hectares)'\n",
    "After imputing by crop and year, any rows that still have missing values in 'Seeded area (hectares)' are dropped to ensure a fully complete dataset."
   ]
  },
  {
   "cell_type": "code",
   "execution_count": 28,
   "metadata": {},
   "outputs": [],
   "source": [
    "# Drop any rows still missing 'Seeded area (hectares)' after group-based imputation\n",
    "df = df.dropna(subset=[\"Seeded area (hectares)\"])"
   ]
  },
  {
   "cell_type": "markdown",
   "metadata": {},
   "source": [
    "To verify that the missing data handling was successful, I check again for any remaining null values across all columns.\n"
   ]
  },
  {
   "cell_type": "code",
   "execution_count": 30,
   "metadata": {},
   "outputs": [
    {
     "data": {
      "text/plain": [
       "REF_DATE                                  0\n",
       "GEO                                       0\n",
       "Type of crop                              0\n",
       "Average farm price (dollars per tonne)    0\n",
       "Average yield (kilograms per hectare)     0\n",
       "Production (metric tonnes)                0\n",
       "Seeded area (hectares)                    0\n",
       "Total farm value (dollars)                0\n",
       "dtype: int64"
      ]
     },
     "execution_count": 30,
     "metadata": {},
     "output_type": "execute_result"
    }
   ],
   "source": [
    "# Check for remaining null values after cleaning\n",
    "df.isnull().sum()"
   ]
  },
  {
   "cell_type": "markdown",
   "metadata": {},
   "source": [
    "### Step – Remove invalid geographical regions\n",
    "We remove rows with non-standard region codes in the 'GEO' column. Only valid Canadian provinces and 'CA' (national average) are retained for the analysis.\n"
   ]
  },
  {
   "cell_type": "code",
   "execution_count": 31,
   "metadata": {},
   "outputs": [],
   "source": [
    "# Define valid regions (abbreviations for Canadian provinces + 'CA' for national average)\n",
    "valid_geo = [\n",
    "    \"CA\",  # National average\n",
    "    \"AB\", \"BC\", \"MB\", \"NB\", \"NL\", \"NS\", \"NT\", \"ON\", \"PE\", \"QC\", \"SK\", \"YT\"\n",
    "]\n",
    "\n",
    "# Filter the dataset\n",
    "df = df[df[\"GEO\"].isin(valid_geo)]"
   ]
  },
  {
   "cell_type": "markdown",
   "metadata": {},
   "source": [
    "### Step – Detect potential outliers\n",
    "We examine extreme values in key numerical columns (e.g., production, yield, farm value) using boxplots and descriptive statistics to identify potential anomalies."
   ]
  },
  {
   "cell_type": "code",
   "execution_count": 32,
   "metadata": {},
   "outputs": [
    {
     "data": {
      "image/png": "[encoded data removed]",
      "text/plain": [
       "<Figure size 800x150 with 1 Axes>"
      ]
     },
     "metadata": {},
     "output_type": "display_data"
    },
    {
     "data": {
      "image/png": "[encoded data removed]",
      "text/plain": [
       "<Figure size 800x150 with 1 Axes>"
      ]
     },
     "metadata": {},
     "output_type": "display_data"
    },
    {
     "data": {
      "image/png": "[encoded data removed]",
      "text/plain": [
       "<Figure size 800x150 with 1 Axes>"
      ]
     },
     "metadata": {},
     "output_type": "display_data"
    },
    {
     "data": {
      "image/png": "[encoded data removed]",
      "text/plain": [
       "<Figure size 800x150 with 1 Axes>"
      ]
     },
     "metadata": {},
     "output_type": "display_data"
    },
    {
     "data": {
      "image/png": "[encoded data removed]",
      "text/plain": [
       "<Figure size 800x150 with 1 Axes>"
      ]
     },
     "metadata": {},
     "output_type": "display_data"
    }
   ],
   "source": [
    "# List of numeric columns to inspect\n",
    "numeric_cols = [\n",
    "    \"Average farm price (dollars per tonne)\",\n",
    "    \"Average yield (kilograms per hectare)\",\n",
    "    \"Production (metric tonnes)\",\n",
    "    \"Seeded area (hectares)\",\n",
    "    \"Total farm value (dollars)\"\n",
    "]\n",
    "\n",
    "# Boxplots for visual inspection\n",
    "for col in numeric_cols:\n",
    "    plt.figure(figsize=(8, 1.5))\n",
    "    sns.boxplot(data=df, x=col)\n",
    "    plt.title(f\"Boxplot – {col}\")\n",
    "    plt.show()\n"
   ]
  },
  {
   "cell_type": "markdown",
   "metadata": {},
   "source": [
    "### Saving the Clean Dataset\n",
    "\n",
    "After completing all missing value treatments, outlier assessment, and preliminary data filtering, the dataset is saved in the `data_clean/` directory for future use in exploratory analysis and modeling.\n",
    "\n",
    "This version is free of nulls and structural inconsistencies and will serve as the baseline for all future transformations."
   ]
  },
  {
   "cell_type": "code",
   "execution_count": 33,
   "metadata": {},
   "outputs": [],
   "source": [
    "# Save the cleaned dataset to the 'data_clean' folder\n",
    "df.to_csv(\"../data_clean/farm_production_clean.csv\", index=False)"
   ]
  }
 ],
 "metadata": {
  "kernelspec": {
   "display_name": "venv",
   "language": "python",
   "name": "python3"
  },
  "language_info": {
   "codemirror_mode": {
    "name": "ipython",
    "version": 3
   },
   "file_extension": ".py",
   "mimetype": "text/x-python",
   "name": "python",
   "nbconvert_exporter": "python",
   "pygments_lexer": "ipython3",
   "version": "3.13.2"
  }
 },
 "nbformat": 4,
 "nbformat_minor": 2
}
